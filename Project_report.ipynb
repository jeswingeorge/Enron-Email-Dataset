{
 "cells": [
  {
   "cell_type": "markdown",
   "metadata": {
    "collapsed": true
   },
   "source": [
    "# Project : Identify fraud from Enron Email\n",
    "\n",
    "## Project Overview \n",
    "\n",
    "In 2000, Enron was one of the largest companies in the United States. By 2002, it had collapsed into bankruptcy due to widespread corporate fraud. In the resulting Federal investigation, a significant amount of typically confidential information entered into the public record, including tens of thousands of emails and detailed financial datas of top enron executives. \n",
    "\n",
    "The Enron datasets comprising emails and financial datas of Enron were made available for public for research and analysis and can be downloaded from : https://www.cs.cmu.edu/~./enron/.\n",
    "\n",
    "![](Enron-1.jpg)\n",
    "\n",
    "### Goal of the project\n",
    "The goal of this project is to use the machine learning skills to build a POI(person of interest) identifier based on financial and email data made public as a result of the Enron scandal. The POI is an acronym for 'person of interest' i.e., a person who is charged by the law for commiting a crime, in this case the scandal at Enron.  \n",
    "\n",
    "The overall work done for this project can be divided into four parts :\n",
    "   1.  __Exploring the Enron Dataset__  \n",
    "       This involves data cleaning, outlier removal and analyzing.\n",
    "\n",
    "   2.  __Feature processing of the Enron dataset__  \n",
    "       It includes feature creation, feature scaling, feature selection and feature transform.\n",
    "      \n",
    "   3.  __Choosing the algorithm__   \n",
    "       As the dataset given has labelled data and output expected is also discrete so supervised learning techniques are used in this project. The supervised learning algorithms are tuned to achieve the best performance on the test dataset. \n",
    "       \n",
    "   4. __Evaluation__  \n",
    "      This step involves validation followed by overall performance check of the project done using evaluation metrics such as precision, recall and f1_score.\n"
   ]
  },
  {
   "cell_type": "code",
   "execution_count": 2,
   "metadata": {},
   "outputs": [],
   "source": [
    "# importing required functions and modules\n",
    "import sys\n",
    "import pickle\n",
    "sys.path.append(\"../tools/\")\n",
    "\n",
    "from feature_format import featureFormat, targetFeatureSplit\n",
    "from tester import dump_classifier_and_data\n",
    "\n",
    "import numpy as np\n",
    "from sklearn.metrics import accuracy_score, precision_score, recall_score, f1_score\n",
    "from sklearn.grid_search import GridSearchCV\n",
    "from time import time\n",
    "\n",
    "import pandas as pd\n",
    "from matplotlib import pyplot as plt\n",
    "\n",
    "\n",
    "### Load the dictionary containing the dataset\n",
    "with open(\"final_project_dataset.pkl\", \"r\") as data_file:\n",
    "    data_dict = pickle.load(data_file)"
   ]
  },
  {
   "cell_type": "markdown",
   "metadata": {},
   "source": [
    "### 1. Exploring the Enron Dataset\n",
    "\n",
    "The pickled Enron data is loaded as a pandas dataframe for easy anlysis of the dataset. And the key i.e., the Enron employees name is used as the index of the pandas dataframe."
   ]
  },
  {
   "cell_type": "code",
   "execution_count": 3,
   "metadata": {},
   "outputs": [
    {
     "data": {
      "text/html": [
       "<div>\n",
       "<style>\n",
       "    .dataframe thead tr:only-child th {\n",
       "        text-align: right;\n",
       "    }\n",
       "\n",
       "    .dataframe thead th {\n",
       "        text-align: left;\n",
       "    }\n",
       "\n",
       "    .dataframe tbody tr th {\n",
       "        vertical-align: top;\n",
       "    }\n",
       "</style>\n",
       "<table border=\"1\" class=\"dataframe\">\n",
       "  <thead>\n",
       "    <tr style=\"text-align: right;\">\n",
       "      <th></th>\n",
       "      <th>bonus</th>\n",
       "      <th>deferral_payments</th>\n",
       "      <th>deferred_income</th>\n",
       "      <th>director_fees</th>\n",
       "      <th>email_address</th>\n",
       "      <th>exercised_stock_options</th>\n",
       "      <th>expenses</th>\n",
       "      <th>from_messages</th>\n",
       "      <th>from_poi_to_this_person</th>\n",
       "      <th>from_this_person_to_poi</th>\n",
       "      <th>...</th>\n",
       "      <th>long_term_incentive</th>\n",
       "      <th>other</th>\n",
       "      <th>poi</th>\n",
       "      <th>restricted_stock</th>\n",
       "      <th>restricted_stock_deferred</th>\n",
       "      <th>salary</th>\n",
       "      <th>shared_receipt_with_poi</th>\n",
       "      <th>to_messages</th>\n",
       "      <th>total_payments</th>\n",
       "      <th>total_stock_value</th>\n",
       "    </tr>\n",
       "  </thead>\n",
       "  <tbody>\n",
       "    <tr>\n",
       "      <th>METTS MARK</th>\n",
       "      <td>600000</td>\n",
       "      <td>NaN</td>\n",
       "      <td>NaN</td>\n",
       "      <td>NaN</td>\n",
       "      <td>mark.metts@enron.com</td>\n",
       "      <td>NaN</td>\n",
       "      <td>94299</td>\n",
       "      <td>29</td>\n",
       "      <td>38</td>\n",
       "      <td>1</td>\n",
       "      <td>...</td>\n",
       "      <td>NaN</td>\n",
       "      <td>1740</td>\n",
       "      <td>False</td>\n",
       "      <td>585062</td>\n",
       "      <td>NaN</td>\n",
       "      <td>365788</td>\n",
       "      <td>702</td>\n",
       "      <td>807</td>\n",
       "      <td>1061827</td>\n",
       "      <td>585062</td>\n",
       "    </tr>\n",
       "    <tr>\n",
       "      <th>BAXTER JOHN C</th>\n",
       "      <td>1200000</td>\n",
       "      <td>1295738</td>\n",
       "      <td>-1386055</td>\n",
       "      <td>NaN</td>\n",
       "      <td>NaN</td>\n",
       "      <td>6680544</td>\n",
       "      <td>11200</td>\n",
       "      <td>NaN</td>\n",
       "      <td>NaN</td>\n",
       "      <td>NaN</td>\n",
       "      <td>...</td>\n",
       "      <td>1586055</td>\n",
       "      <td>2660303</td>\n",
       "      <td>False</td>\n",
       "      <td>3942714</td>\n",
       "      <td>NaN</td>\n",
       "      <td>267102</td>\n",
       "      <td>NaN</td>\n",
       "      <td>NaN</td>\n",
       "      <td>5634343</td>\n",
       "      <td>10623258</td>\n",
       "    </tr>\n",
       "    <tr>\n",
       "      <th>ELLIOTT STEVEN</th>\n",
       "      <td>350000</td>\n",
       "      <td>NaN</td>\n",
       "      <td>-400729</td>\n",
       "      <td>NaN</td>\n",
       "      <td>steven.elliott@enron.com</td>\n",
       "      <td>4890344</td>\n",
       "      <td>78552</td>\n",
       "      <td>NaN</td>\n",
       "      <td>NaN</td>\n",
       "      <td>NaN</td>\n",
       "      <td>...</td>\n",
       "      <td>NaN</td>\n",
       "      <td>12961</td>\n",
       "      <td>False</td>\n",
       "      <td>1788391</td>\n",
       "      <td>NaN</td>\n",
       "      <td>170941</td>\n",
       "      <td>NaN</td>\n",
       "      <td>NaN</td>\n",
       "      <td>211725</td>\n",
       "      <td>6678735</td>\n",
       "    </tr>\n",
       "    <tr>\n",
       "      <th>CORDES WILLIAM R</th>\n",
       "      <td>NaN</td>\n",
       "      <td>NaN</td>\n",
       "      <td>NaN</td>\n",
       "      <td>NaN</td>\n",
       "      <td>bill.cordes@enron.com</td>\n",
       "      <td>651850</td>\n",
       "      <td>NaN</td>\n",
       "      <td>12</td>\n",
       "      <td>10</td>\n",
       "      <td>0</td>\n",
       "      <td>...</td>\n",
       "      <td>NaN</td>\n",
       "      <td>NaN</td>\n",
       "      <td>False</td>\n",
       "      <td>386335</td>\n",
       "      <td>NaN</td>\n",
       "      <td>NaN</td>\n",
       "      <td>58</td>\n",
       "      <td>764</td>\n",
       "      <td>NaN</td>\n",
       "      <td>1038185</td>\n",
       "    </tr>\n",
       "    <tr>\n",
       "      <th>HANNON KEVIN P</th>\n",
       "      <td>1500000</td>\n",
       "      <td>NaN</td>\n",
       "      <td>-3117011</td>\n",
       "      <td>NaN</td>\n",
       "      <td>kevin.hannon@enron.com</td>\n",
       "      <td>5538001</td>\n",
       "      <td>34039</td>\n",
       "      <td>32</td>\n",
       "      <td>32</td>\n",
       "      <td>21</td>\n",
       "      <td>...</td>\n",
       "      <td>1617011</td>\n",
       "      <td>11350</td>\n",
       "      <td>True</td>\n",
       "      <td>853064</td>\n",
       "      <td>NaN</td>\n",
       "      <td>243293</td>\n",
       "      <td>1035</td>\n",
       "      <td>1045</td>\n",
       "      <td>288682</td>\n",
       "      <td>6391065</td>\n",
       "    </tr>\n",
       "  </tbody>\n",
       "</table>\n",
       "<p>5 rows × 21 columns</p>\n",
       "</div>"
      ],
      "text/plain": [
       "                    bonus deferral_payments deferred_income director_fees  \\\n",
       "METTS MARK         600000               NaN             NaN           NaN   \n",
       "BAXTER JOHN C     1200000           1295738        -1386055           NaN   \n",
       "ELLIOTT STEVEN     350000               NaN         -400729           NaN   \n",
       "CORDES WILLIAM R      NaN               NaN             NaN           NaN   \n",
       "HANNON KEVIN P    1500000               NaN        -3117011           NaN   \n",
       "\n",
       "                             email_address exercised_stock_options expenses  \\\n",
       "METTS MARK            mark.metts@enron.com                     NaN    94299   \n",
       "BAXTER JOHN C                          NaN                 6680544    11200   \n",
       "ELLIOTT STEVEN    steven.elliott@enron.com                 4890344    78552   \n",
       "CORDES WILLIAM R     bill.cordes@enron.com                  651850      NaN   \n",
       "HANNON KEVIN P      kevin.hannon@enron.com                 5538001    34039   \n",
       "\n",
       "                 from_messages from_poi_to_this_person  \\\n",
       "METTS MARK                  29                      38   \n",
       "BAXTER JOHN C              NaN                     NaN   \n",
       "ELLIOTT STEVEN             NaN                     NaN   \n",
       "CORDES WILLIAM R            12                      10   \n",
       "HANNON KEVIN P              32                      32   \n",
       "\n",
       "                 from_this_person_to_poi        ...         \\\n",
       "METTS MARK                             1        ...          \n",
       "BAXTER JOHN C                        NaN        ...          \n",
       "ELLIOTT STEVEN                       NaN        ...          \n",
       "CORDES WILLIAM R                       0        ...          \n",
       "HANNON KEVIN P                        21        ...          \n",
       "\n",
       "                 long_term_incentive    other    poi  restricted_stock  \\\n",
       "METTS MARK                       NaN     1740  False            585062   \n",
       "BAXTER JOHN C                1586055  2660303  False           3942714   \n",
       "ELLIOTT STEVEN                   NaN    12961  False           1788391   \n",
       "CORDES WILLIAM R                 NaN      NaN  False            386335   \n",
       "HANNON KEVIN P               1617011    11350   True            853064   \n",
       "\n",
       "                 restricted_stock_deferred  salary shared_receipt_with_poi  \\\n",
       "METTS MARK                             NaN  365788                     702   \n",
       "BAXTER JOHN C                          NaN  267102                     NaN   \n",
       "ELLIOTT STEVEN                         NaN  170941                     NaN   \n",
       "CORDES WILLIAM R                       NaN     NaN                      58   \n",
       "HANNON KEVIN P                         NaN  243293                    1035   \n",
       "\n",
       "                 to_messages total_payments total_stock_value  \n",
       "METTS MARK               807        1061827            585062  \n",
       "BAXTER JOHN C            NaN        5634343          10623258  \n",
       "ELLIOTT STEVEN           NaN         211725           6678735  \n",
       "CORDES WILLIAM R         764            NaN           1038185  \n",
       "HANNON KEVIN P          1045         288682           6391065  \n",
       "\n",
       "[5 rows x 21 columns]"
      ]
     },
     "execution_count": 3,
     "metadata": {},
     "output_type": "execute_result"
    }
   ],
   "source": [
    "# Converting the given pickled Enron data to a pandas dataframe\n",
    "enron_df = pd.DataFrame.from_records(list(data_dict.values()))\n",
    "\n",
    "# set the index of df to be the employees series:\n",
    "employees = pd.Series(list(data_dict.keys()))\n",
    "enron_df.set_index(employees, inplace=True)\n",
    "enron_df.head()"
   ]
  },
  {
   "cell_type": "code",
   "execution_count": 4,
   "metadata": {},
   "outputs": [
    {
     "name": "stdout",
     "output_type": "stream",
     "text": [
      "Size of the enron dataframe :  (146, 21)\n"
     ]
    }
   ],
   "source": [
    "print \"Size of the enron dataframe : \",enron_df.shape"
   ]
  },
  {
   "cell_type": "code",
   "execution_count": 5,
   "metadata": {},
   "outputs": [
    {
     "name": "stdout",
     "output_type": "stream",
     "text": [
      "Number of data points(people) in the dataset :  146\n"
     ]
    }
   ],
   "source": [
    "print \"Number of data points(people) in the dataset : \",len(enron_df)"
   ]
  },
  {
   "cell_type": "code",
   "execution_count": 6,
   "metadata": {},
   "outputs": [
    {
     "name": "stdout",
     "output_type": "stream",
     "text": [
      "To find the number of Features in the Enron Dataset :  21\n"
     ]
    }
   ],
   "source": [
    "print \"To find the number of Features in the Enron Dataset : \",len(enron_df.columns)"
   ]
  },
  {
   "cell_type": "code",
   "execution_count": 7,
   "metadata": {},
   "outputs": [
    {
     "name": "stdout",
     "output_type": "stream",
     "text": [
      "Total number of POI's in the given dataset :  18\n",
      "Total number of non-POI's in the given dataset :  128\n"
     ]
    }
   ],
   "source": [
    "# Counting the number of POIs and non-POIs in the given dataset\n",
    "poi_count = enron_df.groupby('poi').size()\n",
    "print \"Total number of POI's in the given dataset : \",poi_count.iloc[1]\n",
    "print \"Total number of non-POI's in the given dataset : \",poi_count.iloc[0]"
   ]
  },
  {
   "cell_type": "markdown",
   "metadata": {},
   "source": [
    "When you load the data into the dataframe, the data types are strings (or, in pandas, objects)."
   ]
  },
  {
   "cell_type": "code",
   "execution_count": 8,
   "metadata": {},
   "outputs": [
    {
     "data": {
      "text/plain": [
       "bonus                        object\n",
       "deferral_payments            object\n",
       "deferred_income              object\n",
       "director_fees                object\n",
       "email_address                object\n",
       "exercised_stock_options      object\n",
       "expenses                     object\n",
       "from_messages                object\n",
       "from_poi_to_this_person      object\n",
       "from_this_person_to_poi      object\n",
       "loan_advances                object\n",
       "long_term_incentive          object\n",
       "other                        object\n",
       "poi                            bool\n",
       "restricted_stock             object\n",
       "restricted_stock_deferred    object\n",
       "salary                       object\n",
       "shared_receipt_with_poi      object\n",
       "to_messages                  object\n",
       "total_payments               object\n",
       "total_stock_value            object\n",
       "dtype: object"
      ]
     },
     "execution_count": 8,
     "metadata": {},
     "output_type": "execute_result"
    }
   ],
   "source": [
    "enron_df.dtypes"
   ]
  },
  {
   "cell_type": "markdown",
   "metadata": {},
   "source": [
    "Converting the datatypes in the given pandas dataframe into floating points for analysis and replace NaN with zeros."
   ]
  },
  {
   "cell_type": "code",
   "execution_count": 9,
   "metadata": {},
   "outputs": [
    {
     "data": {
      "text/html": [
       "<div>\n",
       "<style>\n",
       "    .dataframe thead tr:only-child th {\n",
       "        text-align: right;\n",
       "    }\n",
       "\n",
       "    .dataframe thead th {\n",
       "        text-align: left;\n",
       "    }\n",
       "\n",
       "    .dataframe tbody tr th {\n",
       "        vertical-align: top;\n",
       "    }\n",
       "</style>\n",
       "<table border=\"1\" class=\"dataframe\">\n",
       "  <thead>\n",
       "    <tr style=\"text-align: right;\">\n",
       "      <th></th>\n",
       "      <th>bonus</th>\n",
       "      <th>deferral_payments</th>\n",
       "      <th>deferred_income</th>\n",
       "      <th>director_fees</th>\n",
       "      <th>email_address</th>\n",
       "      <th>exercised_stock_options</th>\n",
       "      <th>expenses</th>\n",
       "      <th>from_messages</th>\n",
       "      <th>from_poi_to_this_person</th>\n",
       "      <th>from_this_person_to_poi</th>\n",
       "      <th>...</th>\n",
       "      <th>long_term_incentive</th>\n",
       "      <th>other</th>\n",
       "      <th>poi</th>\n",
       "      <th>restricted_stock</th>\n",
       "      <th>restricted_stock_deferred</th>\n",
       "      <th>salary</th>\n",
       "      <th>shared_receipt_with_poi</th>\n",
       "      <th>to_messages</th>\n",
       "      <th>total_payments</th>\n",
       "      <th>total_stock_value</th>\n",
       "    </tr>\n",
       "  </thead>\n",
       "  <tbody>\n",
       "    <tr>\n",
       "      <th>METTS MARK</th>\n",
       "      <td>600000.0</td>\n",
       "      <td>0.0</td>\n",
       "      <td>0.0</td>\n",
       "      <td>0.0</td>\n",
       "      <td>0.0</td>\n",
       "      <td>0.0</td>\n",
       "      <td>94299.0</td>\n",
       "      <td>29.0</td>\n",
       "      <td>38.0</td>\n",
       "      <td>1.0</td>\n",
       "      <td>...</td>\n",
       "      <td>0.0</td>\n",
       "      <td>1740.0</td>\n",
       "      <td>False</td>\n",
       "      <td>585062.0</td>\n",
       "      <td>0.0</td>\n",
       "      <td>365788.0</td>\n",
       "      <td>702.0</td>\n",
       "      <td>807.0</td>\n",
       "      <td>1061827.0</td>\n",
       "      <td>585062.0</td>\n",
       "    </tr>\n",
       "    <tr>\n",
       "      <th>BAXTER JOHN C</th>\n",
       "      <td>1200000.0</td>\n",
       "      <td>1295738.0</td>\n",
       "      <td>-1386055.0</td>\n",
       "      <td>0.0</td>\n",
       "      <td>0.0</td>\n",
       "      <td>6680544.0</td>\n",
       "      <td>11200.0</td>\n",
       "      <td>0.0</td>\n",
       "      <td>0.0</td>\n",
       "      <td>0.0</td>\n",
       "      <td>...</td>\n",
       "      <td>1586055.0</td>\n",
       "      <td>2660303.0</td>\n",
       "      <td>False</td>\n",
       "      <td>3942714.0</td>\n",
       "      <td>0.0</td>\n",
       "      <td>267102.0</td>\n",
       "      <td>0.0</td>\n",
       "      <td>0.0</td>\n",
       "      <td>5634343.0</td>\n",
       "      <td>10623258.0</td>\n",
       "    </tr>\n",
       "    <tr>\n",
       "      <th>ELLIOTT STEVEN</th>\n",
       "      <td>350000.0</td>\n",
       "      <td>0.0</td>\n",
       "      <td>-400729.0</td>\n",
       "      <td>0.0</td>\n",
       "      <td>0.0</td>\n",
       "      <td>4890344.0</td>\n",
       "      <td>78552.0</td>\n",
       "      <td>0.0</td>\n",
       "      <td>0.0</td>\n",
       "      <td>0.0</td>\n",
       "      <td>...</td>\n",
       "      <td>0.0</td>\n",
       "      <td>12961.0</td>\n",
       "      <td>False</td>\n",
       "      <td>1788391.0</td>\n",
       "      <td>0.0</td>\n",
       "      <td>170941.0</td>\n",
       "      <td>0.0</td>\n",
       "      <td>0.0</td>\n",
       "      <td>211725.0</td>\n",
       "      <td>6678735.0</td>\n",
       "    </tr>\n",
       "    <tr>\n",
       "      <th>CORDES WILLIAM R</th>\n",
       "      <td>0.0</td>\n",
       "      <td>0.0</td>\n",
       "      <td>0.0</td>\n",
       "      <td>0.0</td>\n",
       "      <td>0.0</td>\n",
       "      <td>651850.0</td>\n",
       "      <td>0.0</td>\n",
       "      <td>12.0</td>\n",
       "      <td>10.0</td>\n",
       "      <td>0.0</td>\n",
       "      <td>...</td>\n",
       "      <td>0.0</td>\n",
       "      <td>0.0</td>\n",
       "      <td>False</td>\n",
       "      <td>386335.0</td>\n",
       "      <td>0.0</td>\n",
       "      <td>0.0</td>\n",
       "      <td>58.0</td>\n",
       "      <td>764.0</td>\n",
       "      <td>0.0</td>\n",
       "      <td>1038185.0</td>\n",
       "    </tr>\n",
       "    <tr>\n",
       "      <th>HANNON KEVIN P</th>\n",
       "      <td>1500000.0</td>\n",
       "      <td>0.0</td>\n",
       "      <td>-3117011.0</td>\n",
       "      <td>0.0</td>\n",
       "      <td>0.0</td>\n",
       "      <td>5538001.0</td>\n",
       "      <td>34039.0</td>\n",
       "      <td>32.0</td>\n",
       "      <td>32.0</td>\n",
       "      <td>21.0</td>\n",
       "      <td>...</td>\n",
       "      <td>1617011.0</td>\n",
       "      <td>11350.0</td>\n",
       "      <td>True</td>\n",
       "      <td>853064.0</td>\n",
       "      <td>0.0</td>\n",
       "      <td>243293.0</td>\n",
       "      <td>1035.0</td>\n",
       "      <td>1045.0</td>\n",
       "      <td>288682.0</td>\n",
       "      <td>6391065.0</td>\n",
       "    </tr>\n",
       "  </tbody>\n",
       "</table>\n",
       "<p>5 rows × 21 columns</p>\n",
       "</div>"
      ],
      "text/plain": [
       "                      bonus  deferral_payments  deferred_income  \\\n",
       "METTS MARK         600000.0                0.0              0.0   \n",
       "BAXTER JOHN C     1200000.0          1295738.0       -1386055.0   \n",
       "ELLIOTT STEVEN     350000.0                0.0        -400729.0   \n",
       "CORDES WILLIAM R        0.0                0.0              0.0   \n",
       "HANNON KEVIN P    1500000.0                0.0       -3117011.0   \n",
       "\n",
       "                  director_fees  email_address  exercised_stock_options  \\\n",
       "METTS MARK                  0.0            0.0                      0.0   \n",
       "BAXTER JOHN C               0.0            0.0                6680544.0   \n",
       "ELLIOTT STEVEN              0.0            0.0                4890344.0   \n",
       "CORDES WILLIAM R            0.0            0.0                 651850.0   \n",
       "HANNON KEVIN P              0.0            0.0                5538001.0   \n",
       "\n",
       "                  expenses  from_messages  from_poi_to_this_person  \\\n",
       "METTS MARK         94299.0           29.0                     38.0   \n",
       "BAXTER JOHN C      11200.0            0.0                      0.0   \n",
       "ELLIOTT STEVEN     78552.0            0.0                      0.0   \n",
       "CORDES WILLIAM R       0.0           12.0                     10.0   \n",
       "HANNON KEVIN P     34039.0           32.0                     32.0   \n",
       "\n",
       "                  from_this_person_to_poi        ...          \\\n",
       "METTS MARK                            1.0        ...           \n",
       "BAXTER JOHN C                         0.0        ...           \n",
       "ELLIOTT STEVEN                        0.0        ...           \n",
       "CORDES WILLIAM R                      0.0        ...           \n",
       "HANNON KEVIN P                       21.0        ...           \n",
       "\n",
       "                  long_term_incentive      other    poi  restricted_stock  \\\n",
       "METTS MARK                        0.0     1740.0  False          585062.0   \n",
       "BAXTER JOHN C               1586055.0  2660303.0  False         3942714.0   \n",
       "ELLIOTT STEVEN                    0.0    12961.0  False         1788391.0   \n",
       "CORDES WILLIAM R                  0.0        0.0  False          386335.0   \n",
       "HANNON KEVIN P              1617011.0    11350.0   True          853064.0   \n",
       "\n",
       "                  restricted_stock_deferred    salary  \\\n",
       "METTS MARK                              0.0  365788.0   \n",
       "BAXTER JOHN C                           0.0  267102.0   \n",
       "ELLIOTT STEVEN                          0.0  170941.0   \n",
       "CORDES WILLIAM R                        0.0       0.0   \n",
       "HANNON KEVIN P                          0.0  243293.0   \n",
       "\n",
       "                  shared_receipt_with_poi  to_messages  total_payments  \\\n",
       "METTS MARK                          702.0        807.0       1061827.0   \n",
       "BAXTER JOHN C                         0.0          0.0       5634343.0   \n",
       "ELLIOTT STEVEN                        0.0          0.0        211725.0   \n",
       "CORDES WILLIAM R                     58.0        764.0             0.0   \n",
       "HANNON KEVIN P                     1035.0       1045.0        288682.0   \n",
       "\n",
       "                  total_stock_value  \n",
       "METTS MARK                 585062.0  \n",
       "BAXTER JOHN C            10623258.0  \n",
       "ELLIOTT STEVEN            6678735.0  \n",
       "CORDES WILLIAM R          1038185.0  \n",
       "HANNON KEVIN P            6391065.0  \n",
       "\n",
       "[5 rows x 21 columns]"
      ]
     },
     "execution_count": 9,
     "metadata": {},
     "output_type": "execute_result"
    }
   ],
   "source": [
    "# Coerce numeric values into floats or ints; also change NaN to zero:\n",
    "enron_df_new = enron_df.apply(lambda x : pd.to_numeric(x, errors = 'coerce')).copy().fillna(0)\n",
    "enron_df_new.head()"
   ]
  },
  {
   "cell_type": "markdown",
   "metadata": {},
   "source": [
    "Removing the column of email_address from the enron_df as it is not of much used in this project."
   ]
  },
  {
   "cell_type": "code",
   "execution_count": 10,
   "metadata": {},
   "outputs": [
    {
     "data": {
      "text/plain": [
       "(146, 20)"
      ]
     },
     "execution_count": 10,
     "metadata": {},
     "output_type": "execute_result"
    }
   ],
   "source": [
    "# Dropping column 'email_address' as not required in analysis\n",
    "enron_df_new.drop('email_address', axis = 1, inplace = True)\n",
    "\n",
    "# Checking the changed shape of df\n",
    "enron_df_new.shape"
   ]
  },
  {
   "cell_type": "markdown",
   "metadata": {},
   "source": [
    "### Outlier Investigation and Analyzing the features of Enron Dataset\n",
    "\n",
    "#### Financial Features : Bonus and Salary\n",
    "Drawing scatterplot of Bonus vs Salary of Enron employees"
   ]
  },
  {
   "cell_type": "code",
   "execution_count": 11,
   "metadata": {},
   "outputs": [
    {
     "data": {
      "image/png": "[encoded data removed]",
      "text/plain": [
       "<matplotlib.figure.Figure at 0x29dee80>"
      ]
     },
     "metadata": {},
     "output_type": "display_data"
    }
   ],
   "source": [
    "plt.scatter(enron_df_new['salary'][enron_df_new['poi'] == True],enron_df_new['bonus'][enron_df_new['poi'] == True], color = 'r',\n",
    "           label = 'POI')\n",
    "plt.scatter(enron_df_new['salary'][enron_df_new['poi'] == False],enron_df_new['bonus'][enron_df_new['poi'] == False],color = 'b',\n",
    "           label = 'Not-POI')\n",
    "    \n",
    "plt.xlabel(\"Salary\")\n",
    "plt.ylabel(\"Bonus\")\n",
    "plt.title(\"Scatterplot of salary vs bonus w.r.t POI\")\n",
    "plt.legend(loc='upper left')\n",
    "plt.show() "
   ]
  },
  {
   "cell_type": "markdown",
   "metadata": {},
   "source": [
    "From the above figure, one point has very high value of salary and bonus. Checking for the concerned point."
   ]
  },
  {
   "cell_type": "code",
   "execution_count": 12,
   "metadata": {},
   "outputs": [
    {
     "data": {
      "text/plain": [
       "'TOTAL'"
      ]
     },
     "execution_count": 12,
     "metadata": {},
     "output_type": "execute_result"
    }
   ],
   "source": [
    "# Finding the non-POI employee having maximum salary\n",
    "enron_df_new['salary'].argmax()"
   ]
  },
  {
   "cell_type": "markdown",
   "metadata": {},
   "source": [
    "#### Removing Outlier 1 : 'TOTAL'\n",
    "The 'TOTAL' row corresponding to the outlier is removed from the enron dataframe. And again the scatterplot is drawn for bonus vs salary."
   ]
  },
  {
   "cell_type": "code",
   "execution_count": 13,
   "metadata": {},
   "outputs": [
    {
     "data": {
      "image/png": "[encoded data removed]",
      "text/plain": [
       "<matplotlib.figure.Figure at 0xae81dd8>"
      ]
     },
     "metadata": {},
     "output_type": "display_data"
    }
   ],
   "source": [
    "# Deleting the row 'Total' from the \n",
    "enron_df_new.drop('TOTAL', axis = 0, inplace = True)\n",
    "\n",
    "# Drawing scatterplot with the modified dataframe\n",
    "plt.scatter(enron_df_new['salary'][enron_df_new['poi'] == True],enron_df_new['bonus'][enron_df_new['poi'] == True], color = 'r',\n",
    "           label = 'POI')\n",
    "plt.scatter(enron_df_new['salary'][enron_df_new['poi'] == False],enron_df_new['bonus'][enron_df_new['poi'] == False],color = 'b',\n",
    "           label = 'Not-POI')\n",
    "    \n",
    "plt.xlabel(\"Salary\")\n",
    "plt.ylabel(\"Bonus\")\n",
    "plt.title(\"Scatterplot of salary vs bonus w.r.t POI\")\n",
    "plt.legend(loc='upper left')\n",
    "plt.show() "
   ]
  },
  {
   "cell_type": "markdown",
   "metadata": {},
   "source": [
    "From the above figure, its observed that the data becomes more spread out and more comprehensable after the outlier removal. Its also observed that values of bonuses of POIs are higher than that of non-POIs.\n",
    "\n",
    "As the POI's were taking larger amounts of money as bonus, in addition to their high salary so it can be stated that the ratio of bonus to salary of the POI's will be higher as compared to that of non-POI's. So i create a new feature called __ bonus-to-salary_ratio__ hoping that it may aid in the POI identification in the later parts of this project.\n",
    "\n",
    "#### Feature created 1 : bonus-to-salary_ratio"
   ]
  },
  {
   "cell_type": "code",
   "execution_count": 14,
   "metadata": {
    "collapsed": true
   },
   "outputs": [],
   "source": [
    "# Created a new feature\n",
    "enron_df_new['bonus-to-salary_ratio'] = enron_df_new['bonus']/enron_df_new['salary']"
   ]
  },
  {
   "cell_type": "markdown",
   "metadata": {},
   "source": [
    "#### Removing Outlier 2 : 'THE TRAVEL AGENCY IN THE PARK'\n",
    "\n",
    "From the _enron61702insiderpay.pdf_ provided by findlaw.com, a dataset was observed named 'THE TRAVEL AGENCY IN THE PARK'.\n",
    "From the documentary [Enron The Smartest Guys In The Room](https://www.youtube.com/watch?v=H2f7FunDuTU) i had learnt that Enron had made up some transactions with bogus companies and  people so on observing the features of this dataset it can be considered as an outlier with very low values in all features except in _others_ and _total-payments_ and i am removing it."
   ]
  },
  {
   "cell_type": "code",
   "execution_count": 15,
   "metadata": {},
   "outputs": [
    {
     "data": {
      "text/plain": [
       "bonus                             0\n",
       "deferral_payments                 0\n",
       "deferred_income                   0\n",
       "director_fees                     0\n",
       "exercised_stock_options           0\n",
       "expenses                          0\n",
       "from_messages                     0\n",
       "from_poi_to_this_person           0\n",
       "from_this_person_to_poi           0\n",
       "loan_advances                     0\n",
       "long_term_incentive               0\n",
       "other                        362096\n",
       "poi                           False\n",
       "restricted_stock                  0\n",
       "restricted_stock_deferred         0\n",
       "salary                            0\n",
       "shared_receipt_with_poi           0\n",
       "to_messages                       0\n",
       "total_payments               362096\n",
       "total_stock_value                 0\n",
       "bonus-to-salary_ratio           NaN\n",
       "Name: THE TRAVEL AGENCY IN THE PARK, dtype: object"
      ]
     },
     "execution_count": 15,
     "metadata": {},
     "output_type": "execute_result"
    }
   ],
   "source": [
    "# Features of the index 'THE TRAVEL AGENCY IN THE PARK'\n",
    "enron_df_new.loc['THE TRAVEL AGENCY IN THE PARK']"
   ]
  },
  {
   "cell_type": "code",
   "execution_count": 16,
   "metadata": {
    "collapsed": true
   },
   "outputs": [],
   "source": [
    "# Deleting the row with index 'THE TRAVEL AGENCY IN THE PARK'\n",
    "enron_df_new.drop('THE TRAVEL AGENCY IN THE PARK', axis = 0, inplace = True)"
   ]
  },
  {
   "cell_type": "markdown",
   "metadata": {},
   "source": [
    "#### Financial Features : Deferred_income, deferred_payment and total_payment \n",
    "\n",
    "According to [BusinessDictionary.com](http://www.businessdictionary.com/definition/deferred-payment.html) : Deferred payment is \"a loan arrangement in which the borrower is allowed to start making payments at some specified time in the future. Deferred payment arrangements are often used in retail settings where a person buys and receives an item with a commitment to begin making payments at a future date.\"\n",
    "\n",
    "[Deferred income](https://en.wikipedia.org/wiki/Deferred_income) : (also known as deferred revenue, unearned revenue, or unearned income) is, in accrual accounting, money received for goods or services which have not yet been delivered. According to the revenue recognition principle, it is recorded as a liability until delivery is made, at which time it is converted into revenue.\n",
    "\n",
    "As Enron scam involved a lot of undisclosed assets and cheating public by selling assets to shell companies at end of each month and buying them back at the start of next month to hide the acounting losses so there are chances that lot of deferred revenue by the company was used by the POI's."
   ]
  },
  {
   "cell_type": "code",
   "execution_count": 17,
   "metadata": {},
   "outputs": [
    {
     "data": {
      "text/plain": [
       "count    1.440000e+02\n",
       "mean    -1.936833e+05\n",
       "std      6.060111e+05\n",
       "min     -3.504386e+06\n",
       "25%     -3.708600e+04\n",
       "50%      0.000000e+00\n",
       "75%      0.000000e+00\n",
       "max      0.000000e+00\n",
       "Name: deferred_income, dtype: float64"
      ]
     },
     "execution_count": 17,
     "metadata": {},
     "output_type": "execute_result"
    }
   ],
   "source": [
    "enron_df_new['deferred_income'].describe()"
   ]
  },
  {
   "cell_type": "markdown",
   "metadata": {},
   "source": [
    "The __deferred_income__ feature has mostly negative values as it is the money which has to be returned by the company."
   ]
  },
  {
   "cell_type": "code",
   "execution_count": 18,
   "metadata": {},
   "outputs": [
    {
     "name": "stdout",
     "output_type": "stream",
     "text": [
      "length poi list :  18\n",
      "length non-poi list :  126\n"
     ]
    }
   ],
   "source": [
    "# Finding out the integer index locations of POIs and non-POIs\n",
    "poi_rs = []\n",
    "non_poi_rs = []\n",
    "for i in range(len(enron_df_new['poi'])):\n",
    "    if enron_df_new['poi'][i] == True:\n",
    "        poi_rs.append(i+1)\n",
    "    else:\n",
    "        non_poi_rs.append(i+1)\n",
    "\n",
    "print \"length poi list : \",len(poi_rs)\n",
    "print \"length non-poi list : \",len(non_poi_rs)"
   ]
  },
  {
   "cell_type": "markdown",
   "metadata": {},
   "source": [
    "Drawing scatterplot of Employees with deferred income"
   ]
  },
  {
   "cell_type": "code",
   "execution_count": 19,
   "metadata": {},
   "outputs": [
    {
     "data": {
      "image/png": "[encoded data removed]",
      "text/plain": [
       "<matplotlib.figure.Figure at 0xb028cc0>"
      ]
     },
     "metadata": {},
     "output_type": "display_data"
    }
   ],
   "source": [
    "plt.scatter(non_poi_rs,\n",
    "            enron_df_new['deferred_income'][enron_df_new['poi'] == False],\n",
    "            color = 'b', label = 'Not-POI')\n",
    "\n",
    "plt.scatter(poi_rs,\n",
    "            enron_df_new['deferred_income'][enron_df_new['poi'] == True],\n",
    "            color = 'r', label = 'POI')\n",
    "\n",
    "    \n",
    "plt.xlabel('Employees')\n",
    "plt.ylabel('deferred_income')\n",
    "plt.title(\"Scatterplot of Employees with deferred income\")\n",
    "plt.legend(loc='upper right')\n",
    "plt.show()"
   ]
  },
  {
   "cell_type": "markdown",
   "metadata": {},
   "source": [
    "The above scatterplot is not much helpful in either detecting outliers or finding patterns as some POIs as well as non-POIs have high values of deferred income.   \n",
    "\n",
    "Creating a scatterplot of total_payments vs deferral_payments w.r.t POI."
   ]
  },
  {
   "cell_type": "code",
   "execution_count": 20,
   "metadata": {},
   "outputs": [
    {
     "data": {
      "image/png": "[encoded data removed]",
      "text/plain": [
       "<matplotlib.figure.Figure at 0xb3d3be0>"
      ]
     },
     "metadata": {},
     "output_type": "display_data"
    }
   ],
   "source": [
    "# scatterplot of total_payments vs deferral_payments w.r.t POI\n",
    "plt.scatter(enron_df_new['total_payments'][enron_df_new['poi'] == False],\n",
    "            enron_df_new['deferral_payments'][enron_df_new['poi'] == False],\n",
    "            color = 'b', label = 'Not-POI')\n",
    "\n",
    "plt.scatter(enron_df_new['total_payments'][enron_df_new['poi'] == True],\n",
    "            enron_df_new['deferral_payments'][enron_df_new['poi'] == True],\n",
    "            color = 'r', label = 'POI')\n",
    "\n",
    "    \n",
    "plt.xlabel('total_payments')\n",
    "plt.ylabel('deferral_payments')\n",
    "plt.title(\"Scatterplot of total_payments vs deferral_payments w.r.t POI\")\n",
    "plt.legend(loc='upper right')\n",
    "plt.show() "
   ]
  },
  {
   "cell_type": "markdown",
   "metadata": {},
   "source": [
    "From the above scatterplot it can be observed that majority of POIs have very low value of deferral payments as compared to the deferral_payments of non-POIs.  \n",
    "From the above we can observe there are two outliers. The one having high value of total_payments is a POI and the other outlier with high value of deferral payments is a non-POI. I am removing the non-POI outlier."
   ]
  },
  {
   "cell_type": "code",
   "execution_count": 21,
   "metadata": {},
   "outputs": [
    {
     "data": {
      "text/plain": [
       "'FREVERT MARK A'"
      ]
     },
     "execution_count": 21,
     "metadata": {},
     "output_type": "execute_result"
    }
   ],
   "source": [
    "# Finding the non-POI employee having maximum 'deferral_payments'\n",
    "enron_df_new['deferral_payments'].argmax()"
   ]
  },
  {
   "cell_type": "markdown",
   "metadata": {},
   "source": [
    "#### Removing Outlier 3 : 'FREVERT MARK A'"
   ]
  },
  {
   "cell_type": "code",
   "execution_count": 22,
   "metadata": {
    "collapsed": true
   },
   "outputs": [],
   "source": [
    "# Removing the non-POI employee having maximum 'deferral_payments'\n",
    "enron_df_new.drop('FREVERT MARK A', axis = 0, inplace = True)"
   ]
  },
  {
   "cell_type": "markdown",
   "metadata": {
    "collapsed": true
   },
   "source": [
    "#### Financial Features : 'long_term_incentive'\n",
    "\n",
    "Making a scatterplot to check the long_term_incentive of different Enron employees."
   ]
  },
  {
   "cell_type": "code",
   "execution_count": 23,
   "metadata": {},
   "outputs": [
    {
     "data": {
      "image/png": "[encoded data removed]",
      "text/plain": [
       "<matplotlib.figure.Figure at 0x29fc470>"
      ]
     },
     "metadata": {},
     "output_type": "display_data"
    }
   ],
   "source": [
    "# Finding out the integer index locations of POIs and non-POIs\n",
    "poi_rs = []\n",
    "non_poi_rs = []\n",
    "for i in range(len(enron_df_new['poi'])):\n",
    "    if enron_df_new['poi'][i] == True:\n",
    "        poi_rs.append(i+1)\n",
    "    else:\n",
    "        non_poi_rs.append(i+1)\n",
    "\n",
    "# Making a scatterplot\n",
    "plt.scatter(non_poi_rs,\n",
    "            enron_df_new['long_term_incentive'][enron_df_new['poi'] == False],\n",
    "            color = 'b', label = 'Not-POI')\n",
    "\n",
    "plt.scatter(poi_rs,\n",
    "            enron_df_new['long_term_incentive'][enron_df_new['poi'] == True],\n",
    "            color = 'r', label = 'POI')\n",
    "\n",
    "    \n",
    "plt.xlabel('Employees')\n",
    "plt.ylabel('long_term_incentive')\n",
    "plt.title(\"Scatterplot of Employee number with long_term_incentive\")\n",
    "plt.legend(loc='upper left')\n",
    "plt.show()"
   ]
  },
  {
   "cell_type": "markdown",
   "metadata": {
    "collapsed": true
   },
   "source": [
    "From figure, one employee has a very high value of __long_term_incentive__. So considering this point as an outlier and removing it.  "
   ]
  },
  {
   "cell_type": "code",
   "execution_count": 24,
   "metadata": {},
   "outputs": [
    {
     "data": {
      "text/plain": [
       "'MARTIN AMANDA K'"
      ]
     },
     "execution_count": 24,
     "metadata": {},
     "output_type": "execute_result"
    }
   ],
   "source": [
    "enron_df_new['long_term_incentive'].argmax()"
   ]
  },
  {
   "cell_type": "markdown",
   "metadata": {
    "collapsed": true
   },
   "source": [
    "#### Removing Outlier 4 : 'MARTIN AMANDA K'"
   ]
  },
  {
   "cell_type": "code",
   "execution_count": 25,
   "metadata": {
    "collapsed": true
   },
   "outputs": [],
   "source": [
    "enron_df_new.drop('MARTIN AMANDA K', axis = 0, inplace = True)"
   ]
  },
  {
   "cell_type": "markdown",
   "metadata": {
    "collapsed": true
   },
   "source": [
    "#### Financial Features : restricted_stock and restricted_stock_deferred"
   ]
  },
  {
   "cell_type": "code",
   "execution_count": 26,
   "metadata": {},
   "outputs": [
    {
     "data": {
      "image/png": "[encoded data removed]",
      "text/plain": [
       "<matplotlib.figure.Figure at 0xb8a97f0>"
      ]
     },
     "metadata": {},
     "output_type": "display_data"
    }
   ],
   "source": [
    "# Scatterplot of restricted_stock vs 'restricted_stock_deferred' w.r.t POI\n",
    "\n",
    "plt.scatter(enron_df_new['restricted_stock'][enron_df_new['poi'] == False],\n",
    "            enron_df_new['restricted_stock_deferred'][enron_df_new['poi'] == False],\n",
    "            color = 'b', label = 'Not-POI')\n",
    "\n",
    "plt.scatter(enron_df_new['restricted_stock'][enron_df_new['poi'] == True],\n",
    "            enron_df_new['restricted_stock_deferred'][enron_df_new['poi'] == True],\n",
    "            color = 'r', label = 'POI')\n",
    "\n",
    "    \n",
    "plt.xlabel('restricted_stock')\n",
    "plt.ylabel('restricted_stock_deferred')\n",
    "plt.title(\"Scatterplot of restricted_stock vs 'restricted_stock_deferred' w.r.t POI\")\n",
    "plt.legend(loc='upper right')\n",
    "plt.show() "
   ]
  },
  {
   "cell_type": "code",
   "execution_count": 27,
   "metadata": {},
   "outputs": [
    {
     "data": {
      "text/plain": [
       "'BHATNAGAR SANJAY'"
      ]
     },
     "execution_count": 27,
     "metadata": {},
     "output_type": "execute_result"
    }
   ],
   "source": [
    "enron_df_new['restricted_stock_deferred'].argmax()"
   ]
  },
  {
   "cell_type": "markdown",
   "metadata": {},
   "source": [
    "So obtained an outlier in the feature __restricted_stock_deferred__. Also taking a quick look at the values of __restricted_stock_deferred__ most of the values are zeros and the remaining few are negative values. The outlier found here is for the enron employee __BHATNAGAR SANJAY__ who is not a POI and in this analysis i am removing this datapoint hoping that it may aid in classification.  \n",
    "\n",
    "And at the other axis of the graph, the other maximum values are of a POI and a non-POI so no need to remove them. \n",
    "\n",
    "#### Removing Outlier 5 : 'BHATNAGAR SANJAY'"
   ]
  },
  {
   "cell_type": "code",
   "execution_count": 28,
   "metadata": {
    "collapsed": true
   },
   "outputs": [],
   "source": [
    "enron_df_new.drop('BHATNAGAR SANJAY', axis = 0, inplace = True)"
   ]
  },
  {
   "cell_type": "markdown",
   "metadata": {},
   "source": [
    "#### Email Features :  from_poi_to_this_person and from_this_person_to_poi\n",
    "\n",
    "Also it can be thought that for doing such a big scam the POI's might have frequent contact between them via E-mails so by checking on the number of e-mails transferred between POIs and an Employee we can be able to guess for the involvement of that person in that scam. So finding the relationship using the mail from and to this person with respect to the POI."
   ]
  },
  {
   "cell_type": "code",
   "execution_count": 29,
   "metadata": {},
   "outputs": [
    {
     "data": {
      "image/png": "[encoded data removed]",
      "text/plain": [
       "<matplotlib.figure.Figure at 0xb028470>"
      ]
     },
     "metadata": {},
     "output_type": "display_data"
    }
   ],
   "source": [
    "plt.scatter(enron_df_new['from_poi_to_this_person'][enron_df_new['poi'] == False],\n",
    "            enron_df_new['from_this_person_to_poi'][enron_df_new['poi'] == False],\n",
    "            color = 'b', label = 'Not-POI')\n",
    "\n",
    "plt.scatter(enron_df_new['from_poi_to_this_person'][enron_df_new['poi'] == True],\n",
    "            enron_df_new['from_this_person_to_poi'][enron_df_new['poi'] == True],\n",
    "            color = 'r', label = 'POI')\n",
    "\n",
    "    \n",
    "plt.xlabel('from_poi_to_this_person')\n",
    "plt.ylabel('from_this_person_to_poi')\n",
    "plt.title(\"Scatterplot of count of from and to mails between poi and this_person w.r.t POI\")\n",
    "plt.legend(loc='upper right')\n",
    "plt.show() "
   ]
  },
  {
   "cell_type": "markdown",
   "metadata": {},
   "source": [
    "This scatterplot shows relationship between the count of mails send to and fro among different employees of Enron. I think a different feature showing the proportion of mail sent by employees to and fro to the POI will be more helpful in finding out the POI. As POIs will have more communications with POIs as compared to communication with other non-POIS.   \n",
    "So creating two new features.  \n",
    "\n",
    "#### Features created : fraction_mail_from_poi and fraction_mail_to_poi"
   ]
  },
  {
   "cell_type": "code",
   "execution_count": 30,
   "metadata": {
    "collapsed": true
   },
   "outputs": [],
   "source": [
    "enron_df_new['fraction_mail_from_poi'] = enron_df_new['from_poi_to_this_person']/enron_df_new['from_messages'] \n",
    "enron_df_new['fraction_mail_to_poi'] = enron_df_new['from_this_person_to_poi']/enron_df_new['to_messages']"
   ]
  },
  {
   "cell_type": "code",
   "execution_count": 31,
   "metadata": {},
   "outputs": [
    {
     "data": {
      "image/png": "[encoded data removed]",
      "text/plain": [
       "<matplotlib.figure.Figure at 0xb692be0>"
      ]
     },
     "metadata": {},
     "output_type": "display_data"
    }
   ],
   "source": [
    "# Scatterplot of fraction of mails from and to between poi and this_person w.r.t POI\n",
    "plt.scatter(enron_df_new['fraction_mail_from_poi'][enron_df_new['poi'] == False],\n",
    "            enron_df_new['fraction_mail_to_poi'][enron_df_new['poi'] == False],\n",
    "            color = 'b', label = 'Not-POI')\n",
    "\n",
    "plt.scatter(enron_df_new['fraction_mail_from_poi'][enron_df_new['poi'] == True],\n",
    "            enron_df_new['fraction_mail_to_poi'][enron_df_new['poi'] == True],\n",
    "            color = 'r', label = 'POI')\n",
    "\n",
    "    \n",
    "plt.xlabel('fraction_mail_from_poi')\n",
    "plt.ylabel('fraction_mail_to_poi')\n",
    "plt.title(\"Scatterplot of fraction of mails from and to between poi and this_person w.r.t POI\")\n",
    "plt.legend(loc='upper right')\n",
    "plt.show() "
   ]
  },
  {
   "cell_type": "markdown",
   "metadata": {},
   "source": [
    "From the above figure, the difference between POIs and non-POIs points can be clearly classified.  As the red dots representing POIs are more distinct, have higher values and are more seperate from the non-POI blue points."
   ]
  },
  {
   "cell_type": "code",
   "execution_count": 32,
   "metadata": {},
   "outputs": [
    {
     "name": "stdout",
     "output_type": "stream",
     "text": [
      "Features of modified data_dictionary :\n",
      "Total number of datapoints :  141\n",
      "Total number of features :  23\n"
     ]
    }
   ],
   "source": [
    "#clean all 'inf' values which we got if the person's from_messages = 0\n",
    "enron_df_new = enron_df_new.replace('inf', 0)\n",
    "enron_df_new = enron_df_new.fillna(0)\n",
    "# Converting the above modified dataframe to a dictionary\n",
    "enron_dict = enron_df_new.to_dict('index')\n",
    "print \"Features of modified data_dictionary :\"\n",
    "print \"Total number of datapoints : \",len(enron_dict)\n",
    "print \"Total number of features : \",len(enron_dict['METTS MARK'])"
   ]
  },
  {
   "cell_type": "code",
   "execution_count": 33,
   "metadata": {
    "collapsed": true
   },
   "outputs": [],
   "source": [
    "# Store to my_dataset for easy export below.\n",
    "my_dataset = enron_dict"
   ]
  },
  {
   "cell_type": "markdown",
   "metadata": {},
   "source": [
    "#### Features choosen by me to be used in the POI identifier\n",
    "\n",
    "Out of the all features available to be me (given and created by me), i will be using 24 of them for the POI identification and feature processing. The given features can be divided into two types : financial features and email features.  \n",
    "  - __17 financial features :__ \n",
    "  ['salary', 'bonus', 'long_term_incentive', 'bonus-to-salary_ratio', 'expenses','restricted_stock_deferred', 'restricted_stock', 'deferred_income','total_payments','other','shared_receipt_with_poi', 'loan_advances', 'director_fees', 'exercised_stock_options', 'deferral_payments', 'total_stock_value', 'restricted_stock']\n",
    "                \n",
    "  - __6 Email features :__ ['fraction_mail_from_poi', 'fraction_mail_to_poi', 'from_poi_to_this_person', 'from_this_person_to_poi', 'to_messages', 'from_messages']\n",
    "  - __POI__\n",
    "  "
   ]
  },
  {
   "cell_type": "code",
   "execution_count": 34,
   "metadata": {
    "collapsed": true
   },
   "outputs": [],
   "source": [
    "### features_list is a list of strings, each of which is a feature name.\n",
    "### The first feature must be \"poi\".\n",
    "\n",
    "features_list = ['poi', 'salary', 'bonus', 'long_term_incentive', 'bonus-to-salary_ratio', 'deferral_payments', 'expenses', \n",
    "                 'restricted_stock_deferred', 'restricted_stock', 'deferred_income','fraction_mail_from_poi', 'total_payments',\n",
    "                 'other', 'fraction_mail_to_poi', 'from_poi_to_this_person', 'from_this_person_to_poi', 'to_messages', \n",
    "                 'from_messages', 'shared_receipt_with_poi', 'loan_advances', 'director_fees', 'exercised_stock_options',\n",
    "                'total_stock_value', 'restricted_stock']"
   ]
  },
  {
   "cell_type": "code",
   "execution_count": 35,
   "metadata": {
    "collapsed": true
   },
   "outputs": [],
   "source": [
    "# Extract features and labels from dataset for local testing\n",
    "data = featureFormat(my_dataset, features_list, sort_keys = True)\n",
    "labels, features = targetFeatureSplit(data)"
   ]
  },
  {
   "cell_type": "markdown",
   "metadata": {},
   "source": [
    "### 2. Feature processing of the Enron dataset\n",
    "\n",
    "Steps involved :  \n",
    "__1. Feature scaling :__ though standardization (or Z-score normalization) can be an important preprocessing step for many machine learning algorithms. Standardization involves rescaling the features such that they have the properties of a standard normal distribution with a mean of zero and a standard deviation of one. Standardization of datasets is a common requirement for many machine learning estimators implemented in scikit-learn; they might behave badly if the individual features do not more or less look like standard normally distributed data: Gaussian with zero mean and unit variance.  \n",
    "\n",
    "In this project i will be using __MinMaxScaler__ which scales features to lie between zero and one. MinMaxScaler transforms features by scaling each feature to a given range. This estimator scales and translates each feature individually such that it is in the given range on the training set, i.e. between zero and one.  \n",
    "\n",
    "In this project i have used feature scaling only for thise algorithms that use distance metrics (eg : KNN) in order to avoid loss of information.\n",
    "\n",
    "\n",
    "__2. Feature Selection :__ feature selection/dimensionality reduction on sample sets is essential to improve estimators’ accuracy scores or to boost their performance on very high-dimensional datasets. Univariate feature selection works by selecting the best features based on univariate statistical tests. It can be seen as a preprocessing step to an estimator.   \n",
    "\n",
    "In this project i will be using __SelectKBest__ function to find the K best or high-scoring features. Objects of these function take as input a scoring function that returns univariate scores and p-values. Here __f_classif__ is used as scoring function. The f_classif function computes the ANOVA F-value between labels and features for classification tasks.  \n",
    "\n",
    "\n",
    "__3. Dimensionality Reduction using PCA :__ PCA is used to decompose a multivariate dataset in a set of successive orthogonal components that explain a maximum amount of the variance. In scikit-learn, PCA is implemented as a transformer object that learns n components in its fit method, and can be used on new data to project it on these components.  \n",
    "\n",
    "While doing this project i tried each algorithm using with and without PCA, after doing the feature selction. But i observed that after doing PCA the values of precision, recall and f1-score decreases by a large amount probably because of the loss of a large amount of important information which could have been used by the classifer for fitting. So i did not use it.  \n",
    "\n",
    "\n",
    "__Pipeline__ is used to sequentially apply feature processing steps such as scaling, selection and classifcation.\n",
    "\n",
    "Machine learning aims to obtain the parameter values that gives the optimal performance. Sklearn's __GridSearchCV__ module automates this process by performing a grid search over a range of parameter values for an estimator.\n",
    "\n",
    "__StratifiedShuffleSplit__ is used as the cross-validation method. \n",
    "\n",
    "While choosing the algorithms to be used in this project, i have set the parameter n_split of StratifiedShuffleSplit as 100, to reduce runtime. "
   ]
  },
  {
   "cell_type": "code",
   "execution_count": 36,
   "metadata": {
    "collapsed": true
   },
   "outputs": [],
   "source": [
    "### split data into training and testing datasets\n",
    "from sklearn import cross_validation\n",
    "features_train, features_test, labels_train, labels_test = cross_validation.train_test_split(features, labels, test_size=0.3, \n",
    "                                                                                             random_state=42)\n",
    "\n",
    "# Stratified ShuffleSplit cross-validator\n",
    "from sklearn.model_selection import StratifiedShuffleSplit\n",
    "sss = StratifiedShuffleSplit(n_splits=100, test_size=0.3,random_state = 42)\n",
    "\n",
    "# Importing modules for feature scaling and selection\n",
    "from sklearn.preprocessing import MinMaxScaler\n",
    "from sklearn.feature_selection import SelectKBest, f_classif\n",
    "from sklearn.decomposition import PCA\n",
    "from sklearn.pipeline import Pipeline\n",
    "from sklearn.model_selection import GridSearchCV\n",
    "\n",
    "# Defining features to be used via the pipeline\n",
    "## 1. Feature scaling\n",
    "scaler = MinMaxScaler()\n",
    "\n",
    "## 2. Feature Selection\n",
    "skb = SelectKBest(f_classif)\n",
    "\n",
    "## 3. PCA\n",
    "pca = PCA()"
   ]
  },
  {
   "cell_type": "markdown",
   "metadata": {
    "collapsed": true
   },
   "source": [
    "### 3. Choosing Algorithm\n",
    "\n",
    "For this project i used the following algorithms : \n",
    "\n",
    "1. Decision Tree classifier\n",
    "2. KNN classifier\n",
    "3. Gaussian Naive Bayes (GaussianNB) classifier\n",
    "\n",
    "\n",
    "#### Tuning the Algorithm \n",
    "Tuning the algorithm for machine learning means to choose the best parameter values for algorithm that provides an optimized performance. If not tuned correctly the decision boundary made using the algorithm and training set data won't be able to correctly give the best prediction for test set data as chances of having high bias and high variance occurs.\n",
    "\n",
    "__Grid search__ is an approach to parameter tuning that will methodically build and evaluate a model for each combination of algorithm parameters specified in a grid. \n",
    "\n",
    "For feature scaling i have used the SelectKBest algorithm and to tune this section of feature processing to get best performance i used different values for __k (Number of top features to select)__.   \n",
    "\n",
    "In addition to this i also gave different values to the __ n_components__ parameter of PCA. It selects the number of components to keep i.e., after getting the features deemed as important by SelectKBest. But using PCA here has lead to decrese in value of precision, recall and f1 score.  \n",
    "\n",
    "\n",
    "__Parameters tuned for Decision Tree classifier : __\n",
    " \n",
    " - criterion : The function to measure the quality of a split. Supported criteria are “gini” for the Gini impurity and “entropy” for the information gain.  \n",
    " - min_samples_split : The minimum number of samples required to split an internal node.\n",
    " \n",
    "__Parameters tuned for KNN classifier : __\n",
    "\n",
    "- n_neighbors : Number of neighbors to be used in the classifer. "
   ]
  },
  {
   "cell_type": "code",
   "execution_count": 38,
   "metadata": {},
   "outputs": [
    {
     "name": "stdout",
     "output_type": "stream",
     "text": [
      "training time:  88.047 s\n",
      "testing time:  0.0 s\n",
      "Accuracy of DT classifer is  :  0.833333333333\n",
      "Precision of DT classifer is :  0.333333333333\n",
      "Recall of DT classifer is    :  0.4\n",
      "f1-score of DT classifer is  :  0.363636363636\n"
     ]
    }
   ],
   "source": [
    "## Classifier 1 : Decision Tree classifier\n",
    "\n",
    "from sklearn.tree import DecisionTreeClassifier\n",
    "clf_dtree = DecisionTreeClassifier()\n",
    "\n",
    "pipeline = Pipeline(steps = [(\"SKB\", skb), (\"dtree\",clf_dtree)])\n",
    "param_grid = {\"SKB__k\":[3,4,5,6,7,8,9,10,11,12,13,14,15,16,17,18,19],\n",
    "              \"dtree__criterion\": [\"gini\", \"entropy\"],\n",
    "              \"dtree__min_samples_split\": [2, 4, 8, 10]}\n",
    "\n",
    "\n",
    "grid = GridSearchCV(pipeline, param_grid, verbose = 0, cv = sss, scoring = 'f1')\n",
    "\n",
    "t0 = time()\n",
    "#clf = clf.fit(features_train, labels_train)\n",
    "grid.fit(features, labels)\n",
    "print \"training time: \", round(time()-t0, 3), \"s\"\n",
    "\n",
    "# best algorithm\n",
    "clf = grid.best_estimator_\n",
    "\n",
    "t0 = time()\n",
    "# refit the best algorithm:\n",
    "clf.fit(features_train, labels_train)\n",
    "prediction = clf.predict(features_test)\n",
    "print \"testing time: \", round(time()-t0, 3), \"s\"\n",
    "\n",
    "print \"Accuracy of DT classifer is  : \",accuracy_score(labels_test, prediction)\n",
    "print \"Precision of DT classifer is : \",precision_score(prediction, labels_test)\n",
    "print \"Recall of DT classifer is    : \",recall_score(prediction, labels_test)\n",
    "print \"f1-score of DT classifer is  : \",f1_score(prediction, labels_test)"
   ]
  },
  {
   "cell_type": "code",
   "execution_count": 39,
   "metadata": {},
   "outputs": [
    {
     "name": "stdout",
     "output_type": "stream",
     "text": [
      "training time:  12.584 s\n",
      "testing time:  0.0 s\n",
      "Accuracy of DT classifer is  :  0.880952380952\n",
      "Precision of DT classifer is :  0.333333333333\n",
      "Recall of DT classifer is    :  0.666666666667\n",
      "f1-score of DT classifer is  :  0.444444444444\n"
     ]
    }
   ],
   "source": [
    "## Classifier 2 : KNN classifier\n",
    "\n",
    "from sklearn.neighbors import KNeighborsClassifier\n",
    "clf_knn = KNeighborsClassifier()\n",
    "\n",
    "sss = StratifiedShuffleSplit(n_splits=10, test_size=0.3,random_state = 42)\n",
    "pipeline = Pipeline(steps = [(\"scaling\", scaler), (\"SKB\", skb),  (\"knn\",clf_knn)])\n",
    "param_grid = {\"SKB__k\":[3,4,5,6,7,8,9,10,11,12,13,14,15, 16, 17, 18], \n",
    "              \"knn__n_neighbors\": [3,4,5,6,7,8,9,11,12,13,15],\n",
    "              }\n",
    "\n",
    "grid = GridSearchCV(pipeline, param_grid, verbose = 0, cv = sss, scoring = 'f1')\n",
    "\n",
    "t0 = time()\n",
    "#clf = clf.fit(features_train, labels_train)\n",
    "grid.fit(features, labels)\n",
    "print \"training time: \", round(time()-t0, 3), \"s\"\n",
    "\n",
    "# best algorithm\n",
    "clf = grid.best_estimator_\n",
    "\n",
    "t0 = time()\n",
    "# refit the best algorithm:\n",
    "clf.fit(features_train, labels_train)\n",
    "prediction = clf.predict(features_test)\n",
    "print \"testing time: \", round(time()-t0, 3), \"s\"\n",
    "\n",
    "print \"Accuracy of DT classifer is  : \",accuracy_score(labels_test, prediction)\n",
    "print \"Precision of DT classifer is : \",precision_score(prediction, labels_test)\n",
    "print \"Recall of DT classifer is    : \",recall_score(prediction, labels_test)\n",
    "print \"f1-score of DT classifer is  : \",f1_score(prediction, labels_test)"
   ]
  },
  {
   "cell_type": "code",
   "execution_count": 43,
   "metadata": {},
   "outputs": [
    {
     "name": "stdout",
     "output_type": "stream",
     "text": [
      "training time:  2.463 s\n",
      "testing time:  0.0 s\n",
      "Accuracy of GaussianNB classifer (using PCA) is  :  0.880952380952\n",
      "Precision of GaussianNB classifer (using PCA) is :  0.333333333333\n",
      "Recall of GaussianNB classifer (using PCA) is    :  0.666666666667\n",
      "f1-score of GaussianNB classifer (using PCA) is  :  0.444444444444\n"
     ]
    }
   ],
   "source": [
    "# Classifier  4 : Gaussian Naive Bayes (GaussianNB) classifier using PCA\n",
    "from sklearn.naive_bayes import GaussianNB\n",
    "clf_gnb = GaussianNB()\n",
    "\n",
    "pipeline = Pipeline(steps = [(\"scaling\", scaler),(\"SKB\", skb), (\"PCA\",pca), (\"NaiveBayes\",clf_gnb)])\n",
    "param_grid = {\"SKB__k\":[4,5,6,7,8,9,10,11,12],   # To find the number of top features to select\n",
    "              \"PCA__n_components\":[2,3,4],\n",
    "              \"PCA__whiten\":[True]}\n",
    "\n",
    "\n",
    "grid = GridSearchCV(pipeline, param_grid, verbose = 0, cv = sss, scoring = 'f1')\n",
    "\n",
    "t0 = time()\n",
    "#clf = clf.fit(features_train, labels_train)\n",
    "grid.fit(features, labels)\n",
    "print \"training time: \", round(time()-t0, 3), \"s\"\n",
    "\n",
    "# Trained classifier obtained after using GridSearchCV and StratifiedShuffleSplit \n",
    "clf = grid.best_estimator_\n",
    "\n",
    "t0 = time()\n",
    "\n",
    "prediction = clf.predict(features_test)\n",
    "print \"testing time: \", round(time()-t0, 3), \"s\"\n",
    "\n",
    "print \"Accuracy of GaussianNB classifer (using PCA) is  : \",accuracy_score(labels_test, prediction)\n",
    "print \"Precision of GaussianNB classifer (using PCA) is : \",precision_score(prediction, labels_test)\n",
    "print \"Recall of GaussianNB classifer (using PCA) is    : \",recall_score(prediction, labels_test)\n",
    "print \"f1-score of GaussianNB classifer (using PCA) is  : \",f1_score(prediction, labels_test)"
   ]
  },
  {
   "cell_type": "code",
   "execution_count": 41,
   "metadata": {},
   "outputs": [
    {
     "name": "stdout",
     "output_type": "stream",
     "text": [
      "training time:  0.837 s\n",
      "testing time:  0.0 s\n",
      "Accuracy of GaussianNB classifer is  :  0.833333333333\n",
      "Precision of GaussianNB classifer is :  0.5\n",
      "Recall of GaussianNB classifer is    :  0.428571428571\n",
      "f1-score of GaussianNB classifer is  :  0.461538461538\n"
     ]
    }
   ],
   "source": [
    "## Classifier 3 : Gaussian Naive Bayes (GaussianNB) classifier\n",
    "\n",
    "from sklearn.naive_bayes import GaussianNB\n",
    "clf_gnb = GaussianNB()\n",
    "\n",
    "pipeline = Pipeline(steps = [(\"SKB\", skb), (\"NaiveBayes\",clf_gnb)])\n",
    "param_grid = {\"SKB__k\":[3,4,5,6,7,8,9,10,11,12,13,14,15,16,17,18,19]}\n",
    "\n",
    "grid = GridSearchCV(pipeline, param_grid, verbose = 0, cv = sss, scoring = 'f1')\n",
    "\n",
    "t0 = time()\n",
    "grid.fit(features, labels)\n",
    "print \"training time: \", round(time()-t0, 3), \"s\"\n",
    "\n",
    "# best algorithm\n",
    "clf = grid.best_estimator_\n",
    "\n",
    "t0 = time()\n",
    "# refit the best algorithm:\n",
    "clf.fit(features_train, labels_train)\n",
    "prediction = clf.predict(features_test)\n",
    "print \"testing time: \", round(time()-t0, 3), \"s\"\n",
    "\n",
    "print \"Accuracy of GaussianNB classifer is  : \",accuracy_score(labels_test, prediction)\n",
    "print \"Precision of GaussianNB classifer is : \",precision_score(prediction, labels_test)\n",
    "print \"Recall of GaussianNB classifer is    : \",recall_score(prediction, labels_test)\n",
    "print \"f1-score of GaussianNB classifer is  : \",f1_score(prediction, labels_test)"
   ]
  },
  {
   "cell_type": "markdown",
   "metadata": {},
   "source": [
    "Gaussian Naive bayes classifier without using PCA has better f1 score than the GaussianNB using PCA for my project.\n",
    "\n",
    "\n",
    "__So , precision, recall and f1 values provided by GaussianNB classifer without using PCA is better than given by the other two classifying algorithms used__.\n",
    "\n",
    "#### Finding out the features selected by SelectKBest for GaussianNB"
   ]
  },
  {
   "cell_type": "code",
   "execution_count": 42,
   "metadata": {},
   "outputs": [
    {
     "name": "stdout",
     "output_type": "stream",
     "text": [
      "Total number of features selected by SelectKBest algorithm :  9\n",
      "The following table shows the feature selected along with its corresponding scores\n"
     ]
    },
    {
     "data": {
      "text/html": [
       "<div>\n",
       "<style>\n",
       "    .dataframe thead tr:only-child th {\n",
       "        text-align: right;\n",
       "    }\n",
       "\n",
       "    .dataframe thead th {\n",
       "        text-align: left;\n",
       "    }\n",
       "\n",
       "    .dataframe tbody tr th {\n",
       "        vertical-align: top;\n",
       "    }\n",
       "</style>\n",
       "<table border=\"1\" class=\"dataframe\">\n",
       "  <thead>\n",
       "    <tr style=\"text-align: right;\">\n",
       "      <th></th>\n",
       "      <th>Features_Selected</th>\n",
       "      <th>Features_score</th>\n",
       "    </tr>\n",
       "  </thead>\n",
       "  <tbody>\n",
       "    <tr>\n",
       "      <th>1</th>\n",
       "      <td>deferred_income</td>\n",
       "      <td>13.287587</td>\n",
       "    </tr>\n",
       "    <tr>\n",
       "      <th>2</th>\n",
       "      <td>bonus</td>\n",
       "      <td>12.438591</td>\n",
       "    </tr>\n",
       "    <tr>\n",
       "      <th>3</th>\n",
       "      <td>salary</td>\n",
       "      <td>12.225775</td>\n",
       "    </tr>\n",
       "    <tr>\n",
       "      <th>4</th>\n",
       "      <td>exercised_stock_options</td>\n",
       "      <td>11.166453</td>\n",
       "    </tr>\n",
       "    <tr>\n",
       "      <th>5</th>\n",
       "      <td>fraction_mail_from_poi</td>\n",
       "      <td>10.598733</td>\n",
       "    </tr>\n",
       "    <tr>\n",
       "      <th>6</th>\n",
       "      <td>total_stock_value</td>\n",
       "      <td>10.191784</td>\n",
       "    </tr>\n",
       "    <tr>\n",
       "      <th>7</th>\n",
       "      <td>long_term_incentive</td>\n",
       "      <td>10.164526</td>\n",
       "    </tr>\n",
       "    <tr>\n",
       "      <th>8</th>\n",
       "      <td>bonus-to-salary_ratio</td>\n",
       "      <td>9.869367</td>\n",
       "    </tr>\n",
       "    <tr>\n",
       "      <th>9</th>\n",
       "      <td>total_payments</td>\n",
       "      <td>9.361047</td>\n",
       "    </tr>\n",
       "  </tbody>\n",
       "</table>\n",
       "</div>"
      ],
      "text/plain": [
       "         Features_Selected  Features_score\n",
       "1          deferred_income       13.287587\n",
       "2                    bonus       12.438591\n",
       "3                   salary       12.225775\n",
       "4  exercised_stock_options       11.166453\n",
       "5   fraction_mail_from_poi       10.598733\n",
       "6        total_stock_value       10.191784\n",
       "7      long_term_incentive       10.164526\n",
       "8    bonus-to-salary_ratio        9.869367\n",
       "9           total_payments        9.361047"
      ]
     },
     "execution_count": 42,
     "metadata": {},
     "output_type": "execute_result"
    }
   ],
   "source": [
    "# Obtaining the boolean list showing selected features\n",
    "features_selected_bool = grid.best_estimator_.named_steps['SKB'].get_support()\n",
    "# Finding the features selected by SelectKBest\n",
    "features_selected_list = [x for x,y in zip(features_list[1:], features_selected_bool) if y]\n",
    "\n",
    "print \"Total number of features selected by SelectKBest algorithm : \",len(features_selected_list)\n",
    "\n",
    "# Finding the score of features \n",
    "feature_scores =  grid.best_estimator_.named_steps['SKB'].scores_\n",
    "# Finding the score of features selected by selectKBest\n",
    "feature_selected_scores = feature_scores[features_selected_bool]\n",
    "\n",
    "# Creating a pandas dataframe and arranging the features based on their scores and rankimg them \n",
    "imp_features_df = pd.DataFrame({'Features_Selected':features_selected_list, 'Features_score':feature_selected_scores})\n",
    "imp_features_df.sort_values('Features_score', ascending = False,inplace = True)\n",
    "Rank = pd.Series(list(range(1,len(features_selected_list)+1)))\n",
    "imp_features_df.set_index(Rank, inplace = True)\n",
    "print \"The following table shows the feature selected along with its corresponding scores\"\n",
    "imp_features_df"
   ]
  },
  {
   "cell_type": "markdown",
   "metadata": {
    "collapsed": true
   },
   "source": [
    "### 4. Evaluation\n",
    "\n",
    "#### Validation\n",
    "\n",
    "__Model validation__ is defined as the process where a trained model is evaluated with a testing data set. The testing data set is a separate portion of the same data set from which the training set is derived. The main purpose of using the testing data set is to test the generalization ability of a trained model. Model validation is carried out after model training.  \n",
    "\n",
    "Training the prediction model and testing it on the same dataset used for testing is a classic mistake. A model that would just repeat the labels of the samples that it has just seen would have a perfect score but would fail to predict anything useful on yet-unseen data. This situation is called overfitting. To avoid it, it is common practice when performing a (supervised) machine learning experiment to hold out part of the available data as a test set.  \n",
    "\n",
    "In this project for validation, [StratifiedShuffleSplit](http://scikit-learn.org/stable/modules/generated/sklearn.model_selection.ShuffleSplit.html) is used because the dataset used is very small. This method does a \"Random permutation cross-validatoion\".  \n",
    "\n",
    "'StratifiedShuffleSplit' is used when there are few observations in our data that we are trying to predict (as is the case with this dataset). Instead of specifying an explicit testing and training data split (that is fixed), we randomly 'shuffle' through our data creating testing and training data.  The stratified shuffle split is also used to handle class imbalances in the data. This is very important, especially since there are very few POIs in the data.\n",
    "\n",
    "'StratifiedShuffleSplit' will create train/validation subsets (as per the code above, it will create 100 of them). Internally, 'GridSearchCV' will estimate the models using the 100 train subsets and validate the model on the 100 validation subset. So, using the full dataset will allow the training and validation subsets to include as many POI as possible.  \n",
    "\n",
    "With 146 Enron employers, 18 of which are POIs, the dataset used is both small and is imbalanced.\n",
    "\n",
    "\n",
    "#### Evaluation Metric\n",
    "\n",
    "In this project, i am trying to optimize the precision and recall so i am using the f1-score as the key measure for algorithms's performance. F1 score considers both the precision and the recall to compute the score. (Also, for 'StratifiedShuffleSplit' the n_splits parameter = 1000 is used.)\n",
    "\n",
    "- __Accuracy__ is a ratio of correctly predicted observation to the total observations.\n",
    "\n",
    "$ Accuracy = \\frac{TP + TN}{TP+FP+FN+TN}$\n",
    "\n",
    "- __Precision__ is the ratio of correctly predicted positive observations to the total predicted positive observations. \n",
    "\n",
    "$ precision = (\\frac{TP}{TP + FP}) $\n",
    "\n",
    "- __Recall__ is the ratio of correctly predicted positive observations to the all observations in actual class :\n",
    "\n",
    "$ recall = (\\frac{TP}{TP + FN}) $ \n",
    "\n",
    "- __F1-score__ is the weighted average of Precision and Recall. Therefore, this score takes both false positives and false negatives into account. \n",
    "\n",
    "$ f1 = 2.(\\frac{precision.recall}{precision + recall}) $\n",
    "\n",
    "Metric values obtained after running the __tester.py__ file : \n",
    "\n",
    "\n",
    "| Algorithm used       | Accuracy | Precision | Recall | f1 score |\n",
    "|----------------------|----------|-----------|--------|----------|\n",
    "| Gaussian Naive Bayes | 0.852    | 0.476     | 0.377  | 0.393    |\n",
    "\n",
    ">  Interpretation of the metrics that says something human-understandable about algorithm’s performance.\n",
    "\n",
    "- Accuracy can be interpreted as : 85.2% predictions on the total test set have been made correctly.  \n",
    "\n",
    "- Precision can be interpreted as :  if a person is being classified as a POI by my classifier then there is a 47.6% chance that the person is actually a POI. (i.e., a 47.6% chance of obtaining a true positive condition.)  \n",
    "\n",
    "- Recall  can be interpreted as : of all the actual POIs considered, 37.7% of all the POIs can be classified correctly as a POI by my classifier. \n"
   ]
  },
  {
   "cell_type": "markdown",
   "metadata": {},
   "source": [
    "## References :\n",
    "1. [Documentation of scikit-learn 0.19.1](http://scikit-learn.org/stable/documentation.html)\n",
    "2. Udacity Forum\n",
    "3. [Notes on Machine Learning & Artificial Intelligence](https://chrisalbon.com/)\n",
    "4. [Model Validation, Machine Learning](https://link.springer.com/referenceworkentry/10.1007%2F978-1-4419-9863-7_233)\n",
    "5. [f1-score](https://en.wikipedia.org/wiki/F1_score)\n",
    "6. [Accuracy, Precision, Recall & F1 Score: Interpretation of Performance Measures](http://blog.exsilio.com/all/accuracy-precision-recall-f1-score-interpretation-of-performance-measures/)"
   ]
  }
 ],
 "metadata": {
  "kernelspec": {
   "display_name": "Python 3",
   "language": "python",
   "name": "python3"
  },
  "language_info": {
   "codemirror_mode": {
    "name": "ipython",
    "version": 3
   },
   "file_extension": ".py",
   "mimetype": "text/x-python",
   "name": "python",
   "nbconvert_exporter": "python",
   "pygments_lexer": "ipython3",
   "version": "3.7.3"
  }
 },
 "nbformat": 4,
 "nbformat_minor": 2
}
